{
 "cells": [
  {
   "cell_type": "markdown",
   "metadata": {},
   "source": [
    "# Bitcoin data analysis with particular time-frame\n",
    "### SeaofBTC data dumps are analysed"
   ]
  },
  {
   "cell_type": "code",
   "execution_count": 40,
   "metadata": {},
   "outputs": [],
   "source": [
    "import urllib, json\n",
    "import pandas as pd\n",
    "import numpy as np"
   ]
  },
  {
   "cell_type": "code",
   "execution_count": 41,
   "metadata": {},
   "outputs": [],
   "source": [
    "DataPace = \"3d\"   # 1d, 3d, 7d\n",
    "ProgramName = \"bitfinex\" \n",
    "ResampleSize = \"15Min\""
   ]
  },
  {
   "cell_type": "code",
   "execution_count": 42,
   "metadata": {},
   "outputs": [],
   "source": [
    "datalink = \"http://www.seaofbtc.com/api/basic/price?key=1&tf=\" + DataPace + \"&exchange=\" + ProgramName"
   ]
  },
  {
   "cell_type": "code",
   "execution_count": 43,
   "metadata": {},
   "outputs": [],
   "source": [
    "data = urllib.request.urlopen(datalink)\n",
    "data = data.read().decode(\"utf-8\")\n",
    "data = json.loads(data)"
   ]
  },
  {
   "cell_type": "code",
   "execution_count": 44,
   "metadata": {},
   "outputs": [
    {
     "data": {
      "text/html": [
       "<div>\n",
       "<style scoped>\n",
       "    .dataframe tbody tr th:only-of-type {\n",
       "        vertical-align: middle;\n",
       "    }\n",
       "\n",
       "    .dataframe tbody tr th {\n",
       "        vertical-align: top;\n",
       "    }\n",
       "\n",
       "    .dataframe thead th {\n",
       "        text-align: right;\n",
       "    }\n",
       "</style>\n",
       "<table border=\"1\" class=\"dataframe\">\n",
       "  <thead>\n",
       "    <tr style=\"text-align: right;\">\n",
       "      <th></th>\n",
       "      <th>timestamp</th>\n",
       "      <th>price</th>\n",
       "      <th>volume</th>\n",
       "    </tr>\n",
       "  </thead>\n",
       "  <tbody>\n",
       "    <tr>\n",
       "      <th>count</th>\n",
       "      <td>5.517000e+03</td>\n",
       "      <td>5517.000000</td>\n",
       "      <td>5517.000000</td>\n",
       "    </tr>\n",
       "    <tr>\n",
       "      <th>mean</th>\n",
       "      <td>1.420823e+09</td>\n",
       "      <td>285.484535</td>\n",
       "      <td>15.099106</td>\n",
       "    </tr>\n",
       "    <tr>\n",
       "      <th>std</th>\n",
       "      <td>7.177132e+04</td>\n",
       "      <td>5.569094</td>\n",
       "      <td>22.275707</td>\n",
       "    </tr>\n",
       "    <tr>\n",
       "      <th>min</th>\n",
       "      <td>1.420699e+09</td>\n",
       "      <td>275.002857</td>\n",
       "      <td>0.060000</td>\n",
       "    </tr>\n",
       "    <tr>\n",
       "      <th>25%</th>\n",
       "      <td>1.420755e+09</td>\n",
       "      <td>280.062857</td>\n",
       "      <td>4.000000</td>\n",
       "    </tr>\n",
       "    <tr>\n",
       "      <th>50%</th>\n",
       "      <td>1.420833e+09</td>\n",
       "      <td>286.247143</td>\n",
       "      <td>8.663570</td>\n",
       "    </tr>\n",
       "    <tr>\n",
       "      <th>75%</th>\n",
       "      <td>1.420885e+09</td>\n",
       "      <td>290.082857</td>\n",
       "      <td>17.846798</td>\n",
       "    </tr>\n",
       "    <tr>\n",
       "      <th>max</th>\n",
       "      <td>1.420952e+09</td>\n",
       "      <td>297.021429</td>\n",
       "      <td>467.290215</td>\n",
       "    </tr>\n",
       "  </tbody>\n",
       "</table>\n",
       "</div>"
      ],
      "text/plain": [
       "          timestamp        price       volume\n",
       "count  5.517000e+03  5517.000000  5517.000000\n",
       "mean   1.420823e+09   285.484535    15.099106\n",
       "std    7.177132e+04     5.569094    22.275707\n",
       "min    1.420699e+09   275.002857     0.060000\n",
       "25%    1.420755e+09   280.062857     4.000000\n",
       "50%    1.420833e+09   286.247143     8.663570\n",
       "75%    1.420885e+09   290.082857    17.846798\n",
       "max    1.420952e+09   297.021429   467.290215"
      ]
     },
     "execution_count": 44,
     "metadata": {},
     "output_type": "execute_result"
    }
   ],
   "source": [
    "df = pd.DataFrame({ \"timestamp\": data[0], \"price\": data[1], \"volume\": data[2]})\n",
    "df.describe()"
   ]
  },
  {
   "cell_type": "code",
   "execution_count": 45,
   "metadata": {},
   "outputs": [
    {
     "data": {
      "text/html": [
       "<div>\n",
       "<style scoped>\n",
       "    .dataframe tbody tr th:only-of-type {\n",
       "        vertical-align: middle;\n",
       "    }\n",
       "\n",
       "    .dataframe tbody tr th {\n",
       "        vertical-align: top;\n",
       "    }\n",
       "\n",
       "    .dataframe thead th {\n",
       "        text-align: right;\n",
       "    }\n",
       "</style>\n",
       "<table border=\"1\" class=\"dataframe\">\n",
       "  <thead>\n",
       "    <tr style=\"text-align: right;\">\n",
       "      <th></th>\n",
       "      <th>timestamp</th>\n",
       "      <th>price</th>\n",
       "      <th>volume</th>\n",
       "      <th>datestamp</th>\n",
       "    </tr>\n",
       "  </thead>\n",
       "  <tbody>\n",
       "    <tr>\n",
       "      <th>0</th>\n",
       "      <td>1.420699e+09</td>\n",
       "      <td>289.987143</td>\n",
       "      <td>19.993087</td>\n",
       "      <td>2015-01-08 06:28:50</td>\n",
       "    </tr>\n",
       "    <tr>\n",
       "      <th>1</th>\n",
       "      <td>1.420699e+09</td>\n",
       "      <td>289.925714</td>\n",
       "      <td>4.470721</td>\n",
       "      <td>2015-01-08 06:29:43</td>\n",
       "    </tr>\n",
       "    <tr>\n",
       "      <th>2</th>\n",
       "      <td>1.420699e+09</td>\n",
       "      <td>289.871429</td>\n",
       "      <td>7.490000</td>\n",
       "      <td>2015-01-08 06:30:05</td>\n",
       "    </tr>\n",
       "    <tr>\n",
       "      <th>3</th>\n",
       "      <td>1.420699e+09</td>\n",
       "      <td>289.708571</td>\n",
       "      <td>7.569279</td>\n",
       "      <td>2015-01-08 06:30:06</td>\n",
       "    </tr>\n",
       "    <tr>\n",
       "      <th>4</th>\n",
       "      <td>1.420699e+09</td>\n",
       "      <td>289.777143</td>\n",
       "      <td>4.224322</td>\n",
       "      <td>2015-01-08 06:30:27</td>\n",
       "    </tr>\n",
       "  </tbody>\n",
       "</table>\n",
       "</div>"
      ],
      "text/plain": [
       "      timestamp       price     volume           datestamp\n",
       "0  1.420699e+09  289.987143  19.993087 2015-01-08 06:28:50\n",
       "1  1.420699e+09  289.925714   4.470721 2015-01-08 06:29:43\n",
       "2  1.420699e+09  289.871429   7.490000 2015-01-08 06:30:05\n",
       "3  1.420699e+09  289.708571   7.569279 2015-01-08 06:30:06\n",
       "4  1.420699e+09  289.777143   4.224322 2015-01-08 06:30:27"
      ]
     },
     "execution_count": 45,
     "metadata": {},
     "output_type": "execute_result"
    }
   ],
   "source": [
    "df[\"datestamp\"] = np.array(df[\"timestamp\"]).astype(\"datetime64[s]\")\n",
    "df.head()"
   ]
  },
  {
   "cell_type": "code",
   "execution_count": 46,
   "metadata": {},
   "outputs": [],
   "source": [
    "df.set_index(\"datestamp\", inplace=True)"
   ]
  },
  {
   "cell_type": "code",
   "execution_count": 47,
   "metadata": {},
   "outputs": [
    {
     "data": {
      "text/html": [
       "<div>\n",
       "<style scoped>\n",
       "    .dataframe tbody tr th:only-of-type {\n",
       "        vertical-align: middle;\n",
       "    }\n",
       "\n",
       "    .dataframe tbody tr th {\n",
       "        vertical-align: top;\n",
       "    }\n",
       "\n",
       "    .dataframe thead th {\n",
       "        text-align: right;\n",
       "    }\n",
       "</style>\n",
       "<table border=\"1\" class=\"dataframe\">\n",
       "  <thead>\n",
       "    <tr style=\"text-align: right;\">\n",
       "      <th></th>\n",
       "      <th>timestamp</th>\n",
       "      <th>price</th>\n",
       "      <th>volume</th>\n",
       "    </tr>\n",
       "    <tr>\n",
       "      <th>datestamp</th>\n",
       "      <th></th>\n",
       "      <th></th>\n",
       "      <th></th>\n",
       "    </tr>\n",
       "  </thead>\n",
       "  <tbody>\n",
       "    <tr>\n",
       "      <th>2015-01-08 06:28:50</th>\n",
       "      <td>1.420699e+09</td>\n",
       "      <td>289.987143</td>\n",
       "      <td>19.993087</td>\n",
       "    </tr>\n",
       "    <tr>\n",
       "      <th>2015-01-08 06:29:43</th>\n",
       "      <td>1.420699e+09</td>\n",
       "      <td>289.925714</td>\n",
       "      <td>4.470721</td>\n",
       "    </tr>\n",
       "    <tr>\n",
       "      <th>2015-01-08 06:30:05</th>\n",
       "      <td>1.420699e+09</td>\n",
       "      <td>289.871429</td>\n",
       "      <td>7.490000</td>\n",
       "    </tr>\n",
       "    <tr>\n",
       "      <th>2015-01-08 06:30:06</th>\n",
       "      <td>1.420699e+09</td>\n",
       "      <td>289.708571</td>\n",
       "      <td>7.569279</td>\n",
       "    </tr>\n",
       "    <tr>\n",
       "      <th>2015-01-08 06:30:27</th>\n",
       "      <td>1.420699e+09</td>\n",
       "      <td>289.777143</td>\n",
       "      <td>4.224322</td>\n",
       "    </tr>\n",
       "  </tbody>\n",
       "</table>\n",
       "</div>"
      ],
      "text/plain": [
       "                        timestamp       price     volume\n",
       "datestamp                                               \n",
       "2015-01-08 06:28:50  1.420699e+09  289.987143  19.993087\n",
       "2015-01-08 06:29:43  1.420699e+09  289.925714   4.470721\n",
       "2015-01-08 06:30:05  1.420699e+09  289.871429   7.490000\n",
       "2015-01-08 06:30:06  1.420699e+09  289.708571   7.569279\n",
       "2015-01-08 06:30:27  1.420699e+09  289.777143   4.224322"
      ]
     },
     "execution_count": 47,
     "metadata": {},
     "output_type": "execute_result"
    }
   ],
   "source": [
    "df.head()"
   ]
  },
  {
   "cell_type": "code",
   "execution_count": 50,
   "metadata": {},
   "outputs": [
    {
     "data": {
      "text/html": [
       "<div>\n",
       "<style scoped>\n",
       "    .dataframe tbody tr th:only-of-type {\n",
       "        vertical-align: middle;\n",
       "    }\n",
       "\n",
       "    .dataframe tbody tr th {\n",
       "        vertical-align: top;\n",
       "    }\n",
       "\n",
       "    .dataframe thead th {\n",
       "        text-align: right;\n",
       "    }\n",
       "</style>\n",
       "<table border=\"1\" class=\"dataframe\">\n",
       "  <thead>\n",
       "    <tr style=\"text-align: right;\">\n",
       "      <th></th>\n",
       "      <th>open</th>\n",
       "      <th>high</th>\n",
       "      <th>low</th>\n",
       "      <th>close</th>\n",
       "    </tr>\n",
       "    <tr>\n",
       "      <th>datestamp</th>\n",
       "      <th></th>\n",
       "      <th></th>\n",
       "      <th></th>\n",
       "      <th></th>\n",
       "    </tr>\n",
       "  </thead>\n",
       "  <tbody>\n",
       "    <tr>\n",
       "      <th>2015-01-08 06:15:00</th>\n",
       "      <td>289.987143</td>\n",
       "      <td>289.987143</td>\n",
       "      <td>289.925714</td>\n",
       "      <td>289.925714</td>\n",
       "    </tr>\n",
       "    <tr>\n",
       "      <th>2015-01-08 06:30:00</th>\n",
       "      <td>289.871429</td>\n",
       "      <td>290.891429</td>\n",
       "      <td>289.708571</td>\n",
       "      <td>290.891429</td>\n",
       "    </tr>\n",
       "    <tr>\n",
       "      <th>2015-01-08 06:45:00</th>\n",
       "      <td>290.855714</td>\n",
       "      <td>291.137143</td>\n",
       "      <td>290.855714</td>\n",
       "      <td>291.137143</td>\n",
       "    </tr>\n",
       "    <tr>\n",
       "      <th>2015-01-08 07:00:00</th>\n",
       "      <td>291.061429</td>\n",
       "      <td>291.061429</td>\n",
       "      <td>290.794286</td>\n",
       "      <td>290.968571</td>\n",
       "    </tr>\n",
       "    <tr>\n",
       "      <th>2015-01-08 07:15:00</th>\n",
       "      <td>291.225714</td>\n",
       "      <td>291.951429</td>\n",
       "      <td>291.225714</td>\n",
       "      <td>291.951429</td>\n",
       "    </tr>\n",
       "  </tbody>\n",
       "</table>\n",
       "</div>"
      ],
      "text/plain": [
       "                           open        high         low       close\n",
       "datestamp                                                          \n",
       "2015-01-08 06:15:00  289.987143  289.987143  289.925714  289.925714\n",
       "2015-01-08 06:30:00  289.871429  290.891429  289.708571  290.891429\n",
       "2015-01-08 06:45:00  290.855714  291.137143  290.855714  291.137143\n",
       "2015-01-08 07:00:00  291.061429  291.061429  290.794286  290.968571\n",
       "2015-01-08 07:15:00  291.225714  291.951429  291.225714  291.951429"
      ]
     },
     "execution_count": 50,
     "metadata": {},
     "output_type": "execute_result"
    }
   ],
   "source": [
    "OHLC = df[\"price\"].resample(ResampleSize).ohlc()\n",
    "OHLC.head()"
   ]
  },
  {
   "cell_type": "code",
   "execution_count": 54,
   "metadata": {},
   "outputs": [
    {
     "data": {
      "text/html": [
       "<div>\n",
       "<style scoped>\n",
       "    .dataframe tbody tr th:only-of-type {\n",
       "        vertical-align: middle;\n",
       "    }\n",
       "\n",
       "    .dataframe tbody tr th {\n",
       "        vertical-align: top;\n",
       "    }\n",
       "\n",
       "    .dataframe thead th {\n",
       "        text-align: right;\n",
       "    }\n",
       "</style>\n",
       "<table border=\"1\" class=\"dataframe\">\n",
       "  <thead>\n",
       "    <tr style=\"text-align: right;\">\n",
       "      <th></th>\n",
       "      <th>volume</th>\n",
       "    </tr>\n",
       "    <tr>\n",
       "      <th>datestamp</th>\n",
       "      <th></th>\n",
       "    </tr>\n",
       "  </thead>\n",
       "  <tbody>\n",
       "    <tr>\n",
       "      <th>2015-01-08 06:15:00</th>\n",
       "      <td>24.463808</td>\n",
       "    </tr>\n",
       "    <tr>\n",
       "      <th>2015-01-08 06:30:00</th>\n",
       "      <td>161.724513</td>\n",
       "    </tr>\n",
       "    <tr>\n",
       "      <th>2015-01-08 06:45:00</th>\n",
       "      <td>7.178930</td>\n",
       "    </tr>\n",
       "    <tr>\n",
       "      <th>2015-01-08 07:00:00</th>\n",
       "      <td>69.732070</td>\n",
       "    </tr>\n",
       "    <tr>\n",
       "      <th>2015-01-08 07:15:00</th>\n",
       "      <td>112.076637</td>\n",
       "    </tr>\n",
       "  </tbody>\n",
       "</table>\n",
       "</div>"
      ],
      "text/plain": [
       "                         volume\n",
       "datestamp                      \n",
       "2015-01-08 06:15:00   24.463808\n",
       "2015-01-08 06:30:00  161.724513\n",
       "2015-01-08 06:45:00    7.178930\n",
       "2015-01-08 07:00:00   69.732070\n",
       "2015-01-08 07:15:00  112.076637"
      ]
     },
     "execution_count": 54,
     "metadata": {},
     "output_type": "execute_result"
    }
   ],
   "source": [
    "Vol = pd.DataFrame()\n",
    "Vol[\"volume\"] = df[\"volume\"].resample(ResampleSize).sum()\n",
    "Vol.head()"
   ]
  },
  {
   "cell_type": "code",
   "execution_count": 55,
   "metadata": {},
   "outputs": [],
   "source": [
    "OHLC[\"datestamp\"] = OHLC.index\n",
    "Vol[\"datestamp\"] = Vol.index"
   ]
  },
  {
   "cell_type": "code",
   "execution_count": 56,
   "metadata": {},
   "outputs": [
    {
     "data": {
      "text/html": [
       "<div>\n",
       "<style scoped>\n",
       "    .dataframe tbody tr th:only-of-type {\n",
       "        vertical-align: middle;\n",
       "    }\n",
       "\n",
       "    .dataframe tbody tr th {\n",
       "        vertical-align: top;\n",
       "    }\n",
       "\n",
       "    .dataframe thead th {\n",
       "        text-align: right;\n",
       "    }\n",
       "</style>\n",
       "<table border=\"1\" class=\"dataframe\">\n",
       "  <thead>\n",
       "    <tr style=\"text-align: right;\">\n",
       "      <th></th>\n",
       "      <th>open</th>\n",
       "      <th>high</th>\n",
       "      <th>low</th>\n",
       "      <th>close</th>\n",
       "      <th>datestamp</th>\n",
       "    </tr>\n",
       "    <tr>\n",
       "      <th>datestamp</th>\n",
       "      <th></th>\n",
       "      <th></th>\n",
       "      <th></th>\n",
       "      <th></th>\n",
       "      <th></th>\n",
       "    </tr>\n",
       "  </thead>\n",
       "  <tbody>\n",
       "    <tr>\n",
       "      <th>2015-01-08 06:15:00</th>\n",
       "      <td>289.987143</td>\n",
       "      <td>289.987143</td>\n",
       "      <td>289.925714</td>\n",
       "      <td>289.925714</td>\n",
       "      <td>2015-01-08 06:15:00</td>\n",
       "    </tr>\n",
       "    <tr>\n",
       "      <th>2015-01-08 06:30:00</th>\n",
       "      <td>289.871429</td>\n",
       "      <td>290.891429</td>\n",
       "      <td>289.708571</td>\n",
       "      <td>290.891429</td>\n",
       "      <td>2015-01-08 06:30:00</td>\n",
       "    </tr>\n",
       "    <tr>\n",
       "      <th>2015-01-08 06:45:00</th>\n",
       "      <td>290.855714</td>\n",
       "      <td>291.137143</td>\n",
       "      <td>290.855714</td>\n",
       "      <td>291.137143</td>\n",
       "      <td>2015-01-08 06:45:00</td>\n",
       "    </tr>\n",
       "    <tr>\n",
       "      <th>2015-01-08 07:00:00</th>\n",
       "      <td>291.061429</td>\n",
       "      <td>291.061429</td>\n",
       "      <td>290.794286</td>\n",
       "      <td>290.968571</td>\n",
       "      <td>2015-01-08 07:00:00</td>\n",
       "    </tr>\n",
       "    <tr>\n",
       "      <th>2015-01-08 07:15:00</th>\n",
       "      <td>291.225714</td>\n",
       "      <td>291.951429</td>\n",
       "      <td>291.225714</td>\n",
       "      <td>291.951429</td>\n",
       "      <td>2015-01-08 07:15:00</td>\n",
       "    </tr>\n",
       "  </tbody>\n",
       "</table>\n",
       "</div>"
      ],
      "text/plain": [
       "                           open        high         low       close  \\\n",
       "datestamp                                                             \n",
       "2015-01-08 06:15:00  289.987143  289.987143  289.925714  289.925714   \n",
       "2015-01-08 06:30:00  289.871429  290.891429  289.708571  290.891429   \n",
       "2015-01-08 06:45:00  290.855714  291.137143  290.855714  291.137143   \n",
       "2015-01-08 07:00:00  291.061429  291.061429  290.794286  290.968571   \n",
       "2015-01-08 07:15:00  291.225714  291.951429  291.225714  291.951429   \n",
       "\n",
       "                              datestamp  \n",
       "datestamp                                \n",
       "2015-01-08 06:15:00 2015-01-08 06:15:00  \n",
       "2015-01-08 06:30:00 2015-01-08 06:30:00  \n",
       "2015-01-08 06:45:00 2015-01-08 06:45:00  \n",
       "2015-01-08 07:00:00 2015-01-08 07:00:00  \n",
       "2015-01-08 07:15:00 2015-01-08 07:15:00  "
      ]
     },
     "execution_count": 56,
     "metadata": {},
     "output_type": "execute_result"
    }
   ],
   "source": [
    "OHLC.head()"
   ]
  },
  {
   "cell_type": "code",
   "execution_count": 57,
   "metadata": {},
   "outputs": [
    {
     "data": {
      "text/html": [
       "<div>\n",
       "<style scoped>\n",
       "    .dataframe tbody tr th:only-of-type {\n",
       "        vertical-align: middle;\n",
       "    }\n",
       "\n",
       "    .dataframe tbody tr th {\n",
       "        vertical-align: top;\n",
       "    }\n",
       "\n",
       "    .dataframe thead th {\n",
       "        text-align: right;\n",
       "    }\n",
       "</style>\n",
       "<table border=\"1\" class=\"dataframe\">\n",
       "  <thead>\n",
       "    <tr style=\"text-align: right;\">\n",
       "      <th></th>\n",
       "      <th>volume</th>\n",
       "      <th>datestamp</th>\n",
       "    </tr>\n",
       "    <tr>\n",
       "      <th>datestamp</th>\n",
       "      <th></th>\n",
       "      <th></th>\n",
       "    </tr>\n",
       "  </thead>\n",
       "  <tbody>\n",
       "    <tr>\n",
       "      <th>2015-01-08 06:15:00</th>\n",
       "      <td>24.463808</td>\n",
       "      <td>2015-01-08 06:15:00</td>\n",
       "    </tr>\n",
       "    <tr>\n",
       "      <th>2015-01-08 06:30:00</th>\n",
       "      <td>161.724513</td>\n",
       "      <td>2015-01-08 06:30:00</td>\n",
       "    </tr>\n",
       "    <tr>\n",
       "      <th>2015-01-08 06:45:00</th>\n",
       "      <td>7.178930</td>\n",
       "      <td>2015-01-08 06:45:00</td>\n",
       "    </tr>\n",
       "    <tr>\n",
       "      <th>2015-01-08 07:00:00</th>\n",
       "      <td>69.732070</td>\n",
       "      <td>2015-01-08 07:00:00</td>\n",
       "    </tr>\n",
       "    <tr>\n",
       "      <th>2015-01-08 07:15:00</th>\n",
       "      <td>112.076637</td>\n",
       "      <td>2015-01-08 07:15:00</td>\n",
       "    </tr>\n",
       "  </tbody>\n",
       "</table>\n",
       "</div>"
      ],
      "text/plain": [
       "                         volume           datestamp\n",
       "datestamp                                          \n",
       "2015-01-08 06:15:00   24.463808 2015-01-08 06:15:00\n",
       "2015-01-08 06:30:00  161.724513 2015-01-08 06:30:00\n",
       "2015-01-08 06:45:00    7.178930 2015-01-08 06:45:00\n",
       "2015-01-08 07:00:00   69.732070 2015-01-08 07:00:00\n",
       "2015-01-08 07:15:00  112.076637 2015-01-08 07:15:00"
      ]
     },
     "execution_count": 57,
     "metadata": {},
     "output_type": "execute_result"
    }
   ],
   "source": [
    "Vol.head()"
   ]
  },
  {
   "cell_type": "code",
   "execution_count": 64,
   "metadata": {},
   "outputs": [
    {
     "data": {
      "text/plain": [
       "open         False\n",
       "high         False\n",
       "low          False\n",
       "close        False\n",
       "datestamp    False\n",
       "dtype: bool"
      ]
     },
     "execution_count": 64,
     "metadata": {},
     "output_type": "execute_result"
    }
   ],
   "source": [
    "OHLC.isna().any()"
   ]
  },
  {
   "cell_type": "code",
   "execution_count": 65,
   "metadata": {},
   "outputs": [
    {
     "data": {
      "text/plain": [
       "volume       False\n",
       "datestamp    False\n",
       "dtype: bool"
      ]
     },
     "execution_count": 65,
     "metadata": {},
     "output_type": "execute_result"
    }
   ],
   "source": [
    "Vol.isna().any()"
   ]
  },
  {
   "cell_type": "code",
   "execution_count": null,
   "metadata": {},
   "outputs": [],
   "source": []
  }
 ],
 "metadata": {
  "kernelspec": {
   "display_name": "Python 3",
   "language": "python",
   "name": "python3"
  },
  "language_info": {
   "codemirror_mode": {
    "name": "ipython",
    "version": 3
   },
   "file_extension": ".py",
   "mimetype": "text/x-python",
   "name": "python",
   "nbconvert_exporter": "python",
   "pygments_lexer": "ipython3",
   "version": "3.6.5"
  }
 },
 "nbformat": 4,
 "nbformat_minor": 2
}
